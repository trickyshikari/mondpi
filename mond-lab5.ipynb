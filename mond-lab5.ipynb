{
 "cells": [
  {
   "cell_type": "code",
   "execution_count": 1,
   "id": "54777a63",
   "metadata": {
    "_cell_guid": "b1076dfc-b9ad-4769-8c92-a6c4dae69d19",
    "_uuid": "8f2839f25d086af736a60e9eeb907d3b93b6e0e5",
    "execution": {
     "iopub.execute_input": "2023-03-14T17:34:22.934499Z",
     "iopub.status.busy": "2023-03-14T17:34:22.933080Z",
     "iopub.status.idle": "2023-03-14T17:34:23.335722Z",
     "shell.execute_reply": "2023-03-14T17:34:23.334801Z"
    },
    "papermill": {
     "duration": 0.40959,
     "end_time": "2023-03-14T17:34:23.338076",
     "exception": false,
     "start_time": "2023-03-14T17:34:22.928486",
     "status": "completed"
    },
    "tags": []
   },
   "outputs": [
    {
     "name": "stdout",
     "output_type": "stream",
     "text": [
      "The root x is approximately x=-1.41421356499,\n",
      "the error is less than 1e-8.\n",
      "The exact error is 2.61886e-09.\n"
     ]
    }
   ],
   "source": [
    "from scipy.optimize import bisect\n",
    "import math\n",
    "\n",
    "def f(x):\n",
    "    \"\"\"returns f(x)=2-x^2. Has roots at\n",
    "    x=√2 (double root) and x=-√2\"\"\"\n",
    "    return 2 - x ** 2\n",
    "\n",
    "# main program starts here\n",
    "x = bisect(f, -1.9, 0.5, xtol=1e-8)\n",
    "\n",
    "print(\"The root x is approximately x=%14.12g,\\n\"\n",
    "      \"the error is less than 1e-8.\" % (x))\n",
    "print(\"The exact error is %g.\" % (-math.sqrt(2) - x))"
   ]
  },
  {
   "cell_type": "markdown",
   "id": "947735d9",
   "metadata": {
    "papermill": {
     "duration": 0.001726,
     "end_time": "2023-03-14T17:34:23.342133",
     "exception": false,
     "start_time": "2023-03-14T17:34:23.340407",
     "status": "completed"
    },
    "tags": []
   },
   "source": [
    "[-1.9, 0.5]"
   ]
  },
  {
   "cell_type": "code",
   "execution_count": 2,
   "id": "87a0599b",
   "metadata": {
    "execution": {
     "iopub.execute_input": "2023-03-14T17:34:23.347436Z",
     "iopub.status.busy": "2023-03-14T17:34:23.346890Z",
     "iopub.status.idle": "2023-03-14T17:34:23.354217Z",
     "shell.execute_reply": "2023-03-14T17:34:23.352623Z"
    },
    "papermill": {
     "duration": 0.013754,
     "end_time": "2023-03-14T17:34:23.357501",
     "exception": false,
     "start_time": "2023-03-14T17:34:23.343747",
     "status": "completed"
    },
    "tags": []
   },
   "outputs": [
    {
     "name": "stdout",
     "output_type": "stream",
     "text": [
      "The root x is approximately x= 1.414213562373092703\n",
      "The exact error is 2.44249e-15.\n"
     ]
    }
   ],
   "source": [
    "from scipy.optimize import fsolve\n",
    "import math\n",
    "\n",
    "def f(x):\n",
    "    return 2 - x ** 2\n",
    "\n",
    "x = fsolve(f, 0.5)           # one root is at x=√2\n",
    "\n",
    "print(\"The root x is approximately x=%21.19g\" % x)\n",
    "print(\"The exact error is %g.\" % (math.sqrt(2) - x))"
   ]
  }
 ],
 "metadata": {
  "kernelspec": {
   "display_name": "Python 3",
   "language": "python",
   "name": "python3"
  },
  "language_info": {
   "codemirror_mode": {
    "name": "ipython",
    "version": 3
   },
   "file_extension": ".py",
   "mimetype": "text/x-python",
   "name": "python",
   "nbconvert_exporter": "python",
   "pygments_lexer": "ipython3",
   "version": "3.7.12"
  },
  "papermill": {
   "default_parameters": {},
   "duration": 9.619866,
   "end_time": "2023-03-14T17:34:23.984267",
   "environment_variables": {},
   "exception": null,
   "input_path": "__notebook__.ipynb",
   "output_path": "__notebook__.ipynb",
   "parameters": {},
   "start_time": "2023-03-14T17:34:14.364401",
   "version": "2.4.0"
  }
 },
 "nbformat": 4,
 "nbformat_minor": 5
}
